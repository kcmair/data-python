{
 "cells": [
  {
   "cell_type": "code",
   "execution_count": 11,
   "metadata": {},
   "outputs": [
    {
     "name": "stdout",
     "output_type": "stream",
     "text": [
      "Joe's total is 15.96\n",
      "Eric's total is 35.88\n",
      "Tyler's total is 23.94\n",
      "Riley's total is 5.98\n",
      "Brittany's total is 99.50\n",
      "Jimmy's total is 39.92\n",
      "Jeff's total is 59.88\n",
      "Amy's total is 47.88\n",
      "Karl's total is 4.99\n",
      "Sally's total is 299.00\n",
      "Ron's total is 39.90\n",
      "Daniel's total is 19.95\n",
      "Catherine's total is 29.80\n",
      "Sharleen's total is 19.96\n",
      "Richard's total is 7.98\n",
      "Jenny's total is 4.99\n",
      "Kevin's total is 19.95\n",
      "Barry's total is 8.00\n",
      "Jayna's total is 17.94\n",
      "Laura's total is 3.99\n",
      "Lynn's total is 10.00\n",
      "815.39\n"
     ]
    }
   ],
   "source": [
    "open_file = open('CupcakeInvoices.csv')\n",
    "# for row in open_file:\n",
    "#     print(row)\n",
    "\n",
    "# open_file.seek(0,0)\n",
    "grand_total = 0\n",
    "for row in open_file:\n",
    "    row = row.split(',')\n",
    "    flavor = row[2]\n",
    "    # print(row[2])\n",
    "    quantity = int(row[3])\n",
    "    price = float(row[4].rstrip('/r/n'))\n",
    "    total = quantity * price\n",
    "    decimal_limit = \"{:.2f}\".format(total)\n",
    "    print(row[0] + \"'s total is \" + str(decimal_limit))\n",
    "    grand_total += total\n",
    "grand_total = \"{:.2f}\".format(grand_total)\n",
    "print(grand_total)\n",
    "\n",
    "\n",
    "open_file.close()"
   ]
  }
 ],
 "metadata": {
  "interpreter": {
   "hash": "aee8b7b246df8f9039afb4144a1f6fd8d2ca17a180786b69acc140d282b71a49"
  },
  "kernelspec": {
   "display_name": "Python 3.9.10 64-bit",
   "language": "python",
   "name": "python3"
  },
  "language_info": {
   "codemirror_mode": {
    "name": "ipython",
    "version": 3
   },
   "file_extension": ".py",
   "mimetype": "text/x-python",
   "name": "python",
   "nbconvert_exporter": "python",
   "pygments_lexer": "ipython3",
   "version": "3.9.10"
  },
  "orig_nbformat": 4
 },
 "nbformat": 4,
 "nbformat_minor": 2
}
